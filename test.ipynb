{
 "cells": [
  {
   "cell_type": "code",
   "execution_count": 71,
   "metadata": {},
   "outputs": [],
   "source": [
    "from os import listdir\n",
    "texfiles = [f for f in listdir(\".\") if f.endswith(\".tex\")]"
   ]
  },
  {
   "cell_type": "code",
   "execution_count": 142,
   "metadata": {},
   "outputs": [
    {
     "name": "stdout",
     "output_type": "stream",
     "text": [
      "classgroup.tex\n"
     ]
    }
   ],
   "source": [
    "filename = texfiles[3]\n",
    "print filename"
   ]
  },
  {
   "cell_type": "code",
   "execution_count": 151,
   "metadata": {},
   "outputs": [],
   "source": [
    "texfile = open(filename).read()"
   ]
  },
  {
   "cell_type": "code",
   "execution_count": 152,
   "metadata": {},
   "outputs": [],
   "source": [
    "def lines_in_env(environment,lines):\n",
    "    \"\"\"\n",
    "    Given some lines of tex code and an environment (such as \"enumerate\" or \"align\")\n",
    "    this returns the index of the first line that starts with \"\\\\begin{environment}\"\n",
    "    and the number of lines until \"\\\\end{environment}\".\n",
    "    \n",
    "    Note: lines[start:start+length] should include both the begin and end lines.\n",
    "    \"\"\"\n",
    "    is_start = lambda line: line.strip().startswith(\"\\\\begin{%s}\" % environment)\n",
    "    is_end   = lambda line: line.strip().startswith(\"\\\\end{%s}\"   % environment)\n",
    "    start    = next(i for i,line in enumerate(lines) if is_start(line))\n",
    "    length   = next(i+1 for i,line in enumerate(lines[start:]) if is_end(line))\n",
    "    return start,length"
   ]
  },
  {
   "cell_type": "code",
   "execution_count": 153,
   "metadata": {},
   "outputs": [],
   "source": [
    "def get_cells(tex):\n",
    "    \"\"\"\n",
    "    Given a string of tex, returns the lines of {sagecell}\n",
    "    environments grouped together by {sagecode} environments\n",
    "    respecting \"%link\" commands.\n",
    "    \"\"\"\n",
    "    lines = tex.splitlines()\n",
    "    blocks = []\n",
    "    i = 0\n",
    "    while True:\n",
    "        try:\n",
    "            start,length = lines_in_env(\"sagecode\",lines[i:])\n",
    "            blocks.append({\n",
    "                \"start\": i+start,\n",
    "                \"length\": length,\n",
    "            })\n",
    "            i += start + length\n",
    "        except StopIteration:\n",
    "            break\n",
    "    cells = [[]]\n",
    "    for block in blocks:\n",
    "        start,length = block[\"start\"],block[\"length\"]\n",
    "        j = 0\n",
    "        while True:\n",
    "            try:\n",
    "                cell_start,cell_length = lines_in_env(\"sagecell\",lines[start+j:start+length])\n",
    "                out_start,out_length = lines_in_env(\"sageout\",lines[start+j:start+length])\n",
    "                assert cell_start + cell_length == out_start\n",
    "                if not lines[start+j+cell_start].strip().endswith(\"%skip\"):\n",
    "                    cells[-1].append({\n",
    "                        \"source\": {\"start\":cell_start+j+start,\"length\":cell_length},\n",
    "                        \"output\": {\"start\":out_start+j+start,\"length\":out_length},\n",
    "                    })\n",
    "                j += cell_length + out_length\n",
    "            except StopIteration:\n",
    "                break\n",
    "        if not lines[start+length-1].strip().endswith(\"%link\"):\n",
    "            cells.append([])\n",
    "    return [a for a in cells if len(a) > 0]"
   ]
  },
  {
   "cell_type": "code",
   "execution_count": 154,
   "metadata": {},
   "outputs": [],
   "source": [
    "def generate_tests(tex):\n",
    "    \"\"\"\n",
    "    Given a string of tex, this returns a sage file\n",
    "    containing all the code with comments for line numbers.\n",
    "    This can be used to test the code samples.\n",
    "    \"\"\"\n",
    "    lines = tex.splitlines()\n",
    "    output = \"\\n\\n\"\n",
    "    cells = get_cells(tex)\n",
    "    for block in cells:\n",
    "        output += \"\\\"\\\"\\\"\\n\"\n",
    "        for cell in block:\n",
    "            source_start,source_length = cell[\"source\"][\"start\"],cell[\"source\"][\"length\"]\n",
    "            output += \"sage: # From line %s\" % (source_start+1) + \"\\n\"\n",
    "            for i in range(source_start + 1,source_start + source_length - 1):\n",
    "                if lines[i].startswith(\"\\t\") or lines[i].startswith(\"  \") or lines[i-1].strip().endswith(\"\\\\\"):\n",
    "                    prefix = \"....: \"\n",
    "                else:\n",
    "                    prefix = \"sage: \"\n",
    "                output += prefix + lines[i].replace(\"\\t\",\"    \") + \"\\n\"\n",
    "            out_start,out_length = cell[\"output\"][\"start\"],cell[\"output\"][\"length\"]\n",
    "            for i in range(out_start + 1,out_start + out_length - 1):\n",
    "                output += lines[i] + \"\\n\"\n",
    "        output += \"\\\"\\\"\\\"\\n\\n\"\n",
    "    return output"
   ]
  },
  {
   "cell_type": "code",
   "execution_count": 155,
   "metadata": {},
   "outputs": [],
   "source": [
    "testfile = generate_tests(texfile)"
   ]
  },
  {
   "cell_type": "code",
   "execution_count": 156,
   "metadata": {
    "scrolled": true
   },
   "outputs": [
    {
     "name": "stdout",
     "output_type": "stream",
     "text": [
      "\n",
      "\n",
      "\"\"\"\n",
      "sage: # From line 83\n",
      "sage: K = QQ[sqrt(10)]; K\n",
      "Number Field in sqrt10 with defining polynomial x^2 - 10\n",
      "sage: # From line 89\n",
      "sage: B = K.minkowski_bound(); B\n",
      "sqrt(10)\n",
      "sage: # From line 95\n",
      "sage: B.n()\n",
      "3.16227766016838\n",
      "\"\"\"\n",
      "\n",
      "\"\"\"\n",
      "sage: # From line 150\n",
      "sage: K.<sqrt10> = QQ[sqrt(10)]; K\n",
      "Number Field in sqrt10 with defining polynomial x^2 - 10\n",
      "sage: # From line 156\n",
      "sage: G = K.class_group(); G\n",
      "Class group of order 2 with structure C2 of Number Field ...\n",
      "sage: # From line 162\n",
      "sage: G.0\n",
      "Fractional ideal class (3, sqrt10 + 1)\n",
      "sage: # From line 168\n",
      "sage: G.0^2\n",
      "Trivial principal fractional ideal class\n",
      "sage: # From line 174\n",
      "sage: G.0 == G( (3, 2 + sqrt10) )\n",
      "True\n",
      "\"\"\"\n",
      "\n",
      "\"\"\"\n",
      "sage: # From line 521\n",
      "sage: for d in [2..1000]:\n",
      "....:     if is_fundamental_discriminant(d):\n",
      "....:         h = QuadraticField(d, 'a').class_number()\n",
      "....:         if h == 1:\n",
      "....:             print d\n",
      "5 8 12 13 17 21 24 28 29 33 37 41 44 53 56 57 61 69\n",
      "73 76 77 88 89 92 93 97 101 109 113 124 129 133 137\n",
      "141 149 152 157 161 172 173 177 181 184 188 193 197\n",
      "201 209 213 217 233 236 237 241 248 249 253 268 269\n",
      "277 281 284 293 301 309 313 317 329 332 337 341 344\n",
      "349 353 373 376 381 389 393 397 409 412 413 417 421\n",
      "428 433 437 449 453 457 461 472 489 497 501 508 509\n",
      "517 521 524 536 537 541 553 556 557 569 573 581 589\n",
      "593 597 601 604 613 617 632 633 641 649 652 653 661\n",
      "664 668 669 673 677 681 701 709 713 716 717 721 737\n",
      "749 753 757 764 769 773 781 789 796 797 809 813 821\n",
      "824 829 844 849 853 856 857 869 877 881 889 893 908\n",
      "913 917 921 929 933 937 941 953 956 973 977 989 997\n",
      "\"\"\"\n",
      "\n",
      "\"\"\"\n",
      "sage: # From line 547\n",
      "sage: for d in [-1,-2..-1000]:\n",
      "....:     if is_fundamental_discriminant(d):\n",
      "....:         h = QuadraticField(d, 'a').class_number()\n",
      "....:         if h == 1:\n",
      "....:             print d\n",
      "-3 -4 -7 -8 -11 -19 -43 -67 -163\n",
      "\"\"\"\n",
      "\n",
      "\n"
     ]
    }
   ],
   "source": [
    "print testfile"
   ]
  },
  {
   "cell_type": "code",
   "execution_count": 157,
   "metadata": {},
   "outputs": [],
   "source": [
    "f = open(\"/tmp/test.sage\",\"wt\")\n",
    "f.write(testfile)\n",
    "f.close()"
   ]
  },
  {
   "cell_type": "code",
   "execution_count": 158,
   "metadata": {},
   "outputs": [
    {
     "name": "stdout",
     "output_type": "stream",
     "text": [
      "too few successful tests, not using stored timings\n",
      "Running doctests with ID 2018-08-06-10-21-25-9765580b.\n",
      "Git branch: develop\n",
      "Using --optional=mpir,python2,sage\n",
      "Doctesting 1 file.\n",
      "sage -t /tmp/test.sage\n",
      "**********************************************************************\n",
      "File \"/tmp/test.sage\", line 35, in test\n",
      "Failed example:\n",
      "    for d in [2..1000]:\n",
      "        if is_fundamental_discriminant(d):\n",
      "            h = QuadraticField(d, 'a').class_number()\n",
      "            if h == 1:\n",
      "                print d\n",
      "Exception raised:\n",
      "    Traceback (most recent call last):\n",
      "      File \"/home/t/SageMath/local/lib/python2.7/site-packages/sage/doctest/forker.py\", line 551, in _run\n",
      "        self.compile_and_execute(example, compiler, test.globs)\n",
      "      File \"/home/t/SageMath/local/lib/python2.7/site-packages/sage/doctest/forker.py\", line 959, in compile_and_execute\n",
      "        compiled = compiler(example)\n",
      "      File \"/home/t/SageMath/local/lib/python2.7/site-packages/sage/doctest/forker.py\", line 549, in <lambda>\n",
      "        example.source, filename, \"single\", compileflags, 1)\n",
      "      File \"<doctest test[0]>\", line 5\n",
      "        print d\n",
      "              ^\n",
      "    SyntaxError: invalid syntax\n",
      "**********************************************************************\n",
      "File \"/tmp/test.sage\", line 57, in test\n",
      "Failed example:\n",
      "    for d in [-1,-2..-1000]:\n",
      "        if is_fundamental_discriminant(d):\n",
      "            h = QuadraticField(d, 'a').class_number()\n",
      "            if h == 1:\n",
      "                print d\n",
      "Exception raised:\n",
      "    Traceback (most recent call last):\n",
      "      File \"/home/t/SageMath/local/lib/python2.7/site-packages/sage/doctest/forker.py\", line 551, in _run\n",
      "        self.compile_and_execute(example, compiler, test.globs)\n",
      "      File \"/home/t/SageMath/local/lib/python2.7/site-packages/sage/doctest/forker.py\", line 959, in compile_and_execute\n",
      "        compiled = compiler(example)\n",
      "      File \"/home/t/SageMath/local/lib/python2.7/site-packages/sage/doctest/forker.py\", line 549, in <lambda>\n",
      "        example.source, filename, \"single\", compileflags, 1)\n",
      "      File \"<doctest test[0]>\", line 5\n",
      "        print d\n",
      "              ^\n",
      "    SyntaxError: invalid syntax\n",
      "**********************************************************************\n",
      "1 item had failures:\n",
      "   2 of  14 in test\n",
      "    [10 tests, 2 failures, 0.88 s]\n",
      "----------------------------------------------------------------------\n",
      "sage -t /tmp/test.sage  # 2 doctests failed\n",
      "----------------------------------------------------------------------\n",
      "Total time for all tests: 1.3 seconds\n",
      "    cpu time: 1.2 seconds\n",
      "    cumulative wall time: 0.9 seconds\n",
      "\n"
     ]
    }
   ],
   "source": [
    "import os\n",
    "print os.popen('sage -t /tmp/test.sage').read()"
   ]
  },
  {
   "cell_type": "code",
   "execution_count": null,
   "metadata": {},
   "outputs": [],
   "source": []
  },
  {
   "cell_type": "code",
   "execution_count": null,
   "metadata": {},
   "outputs": [],
   "source": []
  }
 ],
 "metadata": {
  "kernelspec": {
   "display_name": "SageMath 9.2.beta3",
   "language": "sage",
   "name": "sagemath"
  },
  "language_info": {
   "codemirror_mode": {
    "name": "ipython",
    "version": 3
   },
   "file_extension": ".py",
   "mimetype": "text/x-python",
   "name": "python",
   "nbconvert_exporter": "python",
   "pygments_lexer": "ipython3",
   "version": "3.7.3"
  }
 },
 "nbformat": 4,
 "nbformat_minor": 2
}
